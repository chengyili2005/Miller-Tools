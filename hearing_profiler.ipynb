{
 "cells": [
  {
   "cell_type": "markdown",
   "id": "57445762",
   "metadata": {},
   "source": [
    "Setup:\n",
    "- Run this in colab by changing the URL from 'github.com' to 'githubtocolab.com'. \n",
    "- Ensure that DOD_clinical_data.xlsx is in working directory"
   ]
  },
  {
   "cell_type": "code",
   "execution_count": 7,
   "id": "4337ade2",
   "metadata": {},
   "outputs": [],
   "source": [
    "# Some packages\n",
    "import pandas as pd\n",
    "import numpy as np"
   ]
  },
  {
   "cell_type": "markdown",
   "id": "f1b81ce2",
   "metadata": {},
   "source": [
    "These are some dictionaries that help with iterating through the classification boundaries."
   ]
  },
  {
   "cell_type": "code",
   "execution_count": 8,
   "id": "73f19722",
   "metadata": {},
   "outputs": [],
   "source": [
    "# Clinical classification boundaries\n",
    "clinical_ranges = [\n",
    "(0, 25, \"Normal Hearing\"),\n",
    "(25, 40, \"Mild Hearing Loss\"),\n",
    "(40, 60, \"Moderate Hearing Loss\"),\n",
    "(60, np.inf, \"Severe and Profound hearing loss\")\n",
    "]\n",
    "\n",
    "# Military boundaries - This models the table from: https://pmc.ncbi.nlm.nih.gov/articles/PMC10571680/table/table1-23312165231198374/\n",
    "military_ranges = {\n",
    "\t'H0' : {\n",
    "\t\t'Better' : {'500' : 20, '1000' : 20, '2000' : 20},\n",
    "\t\t'Worse' : {'500' : 20, '1000' : 20, '2000' : 20}\n",
    "\t},\n",
    "\t'H1' : {\n",
    "\t\t'Better' : {'500' : 25, '1000' : 25, '2000' : 25},\n",
    "\t\t'Worse' : {'500' : 30, '1000' : 30, '2000' : 30}\n",
    "\t},\n",
    "\t'H2' : {\n",
    "\t\t'Better' : {'500' : 25, '1000' : 30, '2000' : 25},\n",
    "\t\t'Worse' : {'500' : 40, '1000' : 40, '2000' : 60}\n",
    "\t},\n",
    "\t'H3' : {\n",
    "\t\t'Better' : {'500' : np.inf, '1000' : np.inf, '2000' : np.inf},\n",
    "\t\t'Worse' : {'500' : np.inf, '1000' : np.inf, '2000' : np.inf}\n",
    "\t}\n",
    "}"
   ]
  },
  {
   "cell_type": "markdown",
   "id": "2aae9790",
   "metadata": {},
   "source": [
    "These are helper functions that take in the 500, 1000, and 2000hz dB HL values of a given participant and returns the classification. "
   ]
  },
  {
   "cell_type": "code",
   "execution_count": null,
   "id": "f0d13b6e",
   "metadata": {},
   "outputs": [],
   "source": [
    "# Helper function: Classifies a soldier's hearing profile based off of clinical metrics\n",
    "def classify_clinical(RU500, RU1000, RU2000, LU500, LU1000, LU2000):\n",
    "\n",
    "\t# Clinical algorithm\n",
    "\tPTA_score = (RU500 + RU1000 + RU2000 + LU500 + LU1000 + LU2000)/6\n",
    "\tprofile = \"\"\n",
    "\tfor min, max, label in clinical_ranges:\n",
    "\t\tif min <= PTA_score <= max:\n",
    "\t\t\tprofile = label\n",
    "\t\tif profile != \"\":\n",
    "\t\t\tbreak\n",
    "\t\n",
    "\t# Returns the profile and the PTA as an ordered pair\n",
    "\treturn profile, PTA_score\n",
    "\n",
    "# Helper function: Classifies a soldier's hearing profile based off of military metrics\n",
    "def classify_military(RU500, RU1000, RU2000, LU500, LU1000, LU2000):\n",
    "\n",
    "\t# Military algorithm\n",
    "\tbetter_profile = \"\"\n",
    "\tworse_profile = \"\"\n",
    "\tprofile = \"\"\n",
    "\n",
    "\t# Choose better ear with averages\n",
    "\tright_score = (RU500 + RU1000 + RU2000) / 3 \n",
    "\tleft_score = (LU500 + LU1000 + LU2000) / 3 \n",
    "\tright_ear = {'500' : RU500, '1000' : RU1000, '2000' : RU2000}\n",
    "\tleft_ear = {'500' : LU500, '1000' : LU1000, '2000' : LU2000}\n",
    "\tbetter_ear = right_ear if right_score <= left_score else left_ear\n",
    "\tworse_ear = left_ear if better_ear == right_ear else right_ear\n",
    "\n",
    "\t# Classify the better ear\n",
    "\tfor label in military_ranges.keys():\n",
    "\t\tif better_ear['500'] <= military_ranges[label]['Better']['500'] and better_ear['1000'] <= military_ranges[label]['Better']['1000'] and better_ear['2000'] <= military_ranges[label]['Better']['2000']:\n",
    "\t\t\tbetter_profile = label\n",
    "\t\tif better_profile != \"\":\n",
    "\t\t\tbreak\n",
    "\t\n",
    "\t# Classify the worse ear\n",
    "\tfor label in military_ranges.keys():\n",
    "\t\tif worse_ear['500'] <= military_ranges[label]['Worse']['500'] and worse_ear['1000'] <= military_ranges[label]['Worse']['1000'] and worse_ear['2000'] <= military_ranges[label]['Worse']['2000']:\n",
    "\t\t\tworse_profile = label\n",
    "\t\tif worse_profile != \"\":\n",
    "\t\t\tbreak\n",
    "\t\n",
    "\t# Pick the which ear's profile to use (if needed)\n",
    "\tprofile = worse_profile if better_profile == worse_profile else max(worse_profile, better_profile)\n",
    "\t\n",
    "\t# Rename H0 into 'NH'\n",
    "\tprofile = 'NH' if profile == 'H0' else profile\n",
    "\tbetter_profile = 'NH' if better_profile == 'H0' else better_profile\n",
    "\tworse_profile = 'NH' if worse_profile == 'H0' else worse_profile\n",
    "\n",
    "\t# Return a tuple\n",
    "\treturn profile, better_profile, worse_profile"
   ]
  },
  {
   "cell_type": "markdown",
   "id": "d18b1de1",
   "metadata": {},
   "source": [
    "Here's an example of how to use these functions. The following code iterates through all participants in the 'DOD_clinical_data.xlsx' sheet, and outputs both the clinical and military classification in a separate file called 'output.xlsx'"
   ]
  },
  {
   "cell_type": "code",
   "execution_count": 10,
   "id": "5f100ec7",
   "metadata": {},
   "outputs": [],
   "source": [
    "# Read the file & set output path\n",
    "input_path = 'DOD_clinical_data.xlsx'\n",
    "output_path = 'output.xlsx'\n",
    "df = pd.read_excel(input_path)\n",
    "\n",
    "# Initialize variables\n",
    "clinical_profiles = []\n",
    "military_profiles = []\n",
    "better_profiles = []\n",
    "worse_profiles = []\n",
    "ids = []\n",
    "debug = []\n",
    "\n",
    "# Iterate through all participants and classify.\n",
    "for index, row in df.iterrows():\n",
    "\tclinical_profile, PTA_score = classify_clinical(row['RU500'], row['RU1000'], row['RU2000'], row['LU500'], row['LU1000'], row['LU2000'])\n",
    "\tmilitary_profile, better_profile, worse_profile = classify_military(row['RU500'], row['RU1000'], row['RU2000'], row['LU500'], row['LU1000'], row['LU2000'])\n",
    "\tids.append(row['ID'])\n",
    "\tclinical_profiles.append(clinical_profile)\n",
    "\t# military_profiles.append(military_profile) # Only if a single profile is needed\n",
    "\tbetter_profiles.append(better_profile)\n",
    "\tworse_profiles.append(worse_profile)\n",
    "\tdebug.append(f\"PTA = {PTA_score}, Better Ear = {better_profile}, Worse Ear = {worse_profile}\") # Optional\n",
    "\n",
    "# Output all values into a separate .xlsx file.\n",
    "data = {\n",
    "\t'ID' : ids,\n",
    "\t'Clinical Profile' : clinical_profiles,\n",
    "\t'Military Profile (Better Ear)' : better_profiles,\n",
    "\t'Military Profile (Worse Ear)' : worse_profiles\n",
    "}\n",
    "final_df = pd.DataFrame(data)\n",
    "final_df.to_excel(output_path)\n"
   ]
  }
 ],
 "metadata": {
  "kernelspec": {
   "display_name": "base",
   "language": "python",
   "name": "python3"
  },
  "language_info": {
   "codemirror_mode": {
    "name": "ipython",
    "version": 3
   },
   "file_extension": ".py",
   "mimetype": "text/x-python",
   "name": "python",
   "nbconvert_exporter": "python",
   "pygments_lexer": "ipython3",
   "version": "3.13.2"
  }
 },
 "nbformat": 4,
 "nbformat_minor": 5
}
